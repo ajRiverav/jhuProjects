{
 "cells": [
  {
   "cell_type": "markdown",
   "metadata": {},
   "source": [
    "# Do winning numbers in the Powerball lottery follow a uniform distribution?\n",
    "\n",
    "Powerball is a lottery game. A player wins the jackpot (as of 01/12/16 at 1.2 Billions of US dollars) if he/she matches the 6 numbers. The first 5 numbers (known as the white balls) can range from 1 to 69, inclusive, whereas the 6th number (known as the red ball, or power ball, and not part of this analysis) can range from 1 to 26, inclusive. There is a 7th ball (known as the Power Play), which it not subject of this analysis, and is therefore ignored. \n",
    "\n",
    "The following analysis takes a look at historical data with the -modest- hope that there are certain numbers with higher probabilities of being drawn. Any reasonable person would know what to do if the numbers drawn do not follow an uniform distribution ;)"
   ]
  },
  {
   "cell_type": "code",
   "execution_count": null,
   "metadata": {
    "collapsed": false
   },
   "outputs": [],
   "source": [
    "%matplotlib inline\n",
    "\n",
    "import pandas as pd\n",
    "import numpy as np\n",
    "import matplotlib.pyplot as plt"
   ]
  },
  {
   "cell_type": "markdown",
   "metadata": {},
   "source": [
    "Wait... upon investigation, there is one caviat: The range of the values of the white balls has changed over time, and therefore one cannot do a proper statistical analysis using all the data at the same time: it can, however, be segmented an analyzed in chunks. "
   ]
  },
  {
   "cell_type": "code",
   "execution_count": null,
   "metadata": {
    "collapsed": false
   },
   "outputs": [],
   "source": [
    "#the numbers have changed. let's define those periods#\n",
    "#There is data starting from year 1997. \n",
    "\n",
    "#From Wikipedia (retrieved on 01/12/2016)\n",
    "#Starting date |Pick 5 of |Pick 1 of\n",
    "#April 22,92   | 45       | 45 \n",
    "#Nov 5, 97     | 49       | 42\n",
    "#Oct 9, 02     | 53       | 42\n",
    "#Aug 28, 05    | 55       | 42\n",
    "#Jan 7, 09     | 59       | 39\n",
    "#Jan 15, 12    | 59       | 35\n",
    "#Oct 7, 2015   | 69       | 26\n",
    "\n",
    "\n",
    "df=pd.read_csv('historyAllDates.csv')\n",
    "df['date']=pd.to_datetime(df['date'].values,utc=False) #convert to datetime object\n",
    "df.columns = map(str.lower, df.columns)\n",
    "df.head()"
   ]
  },
  {
   "cell_type": "code",
   "execution_count": null,
   "metadata": {
    "collapsed": true
   },
   "outputs": [],
   "source": [
    "def doHistForWhiteBallAnalysis( df, numUniqueBalls ):\n",
    "    #Set up figure and axis\n",
    "    fig, ax = plt.subplots(nrows=1, ncols=1)\n",
    "    fig.set_size_inches(18.5, 10.5)\n",
    "    \n",
    "    ballNumber = ['Ball#1', 'Ball#2', 'Ball#3','Ball#4','Ball#5']\n",
    "\n",
    "    ax.hist( df[['wb1','wb2','wb3','wb4','wb5']].as_matrix(), numUniqueBalls, normed=0, histtype='bar', label = ballNumber)\n",
    "    \n",
    "    ax.legend(prop={'size': 12})\n",
    "    \n",
    "    ax.set_xlabel('Ball value')\n",
    "    ax.set_ylabel('# times drawn')\n",
    "                             \n",
    "    plt.title('Lottery numbers histogram')\n",
    "    plt.show()"
   ]
  },
  {
   "cell_type": "markdown",
   "metadata": {},
   "source": [
    "## Data starts at 11/1/1997 to 9/7/2016\n",
    "\n",
    "### Analyze 2nd time segment (years 1997-2002)"
   ]
  },
  {
   "cell_type": "code",
   "execution_count": null,
   "metadata": {
    "collapsed": false
   },
   "outputs": [],
   "source": [
    "sel = (df.date >= '1997/11/5') & (df.date < '2002/10/9')\n",
    "print('Num of points is ' + str(len(df[sel])))\n",
    "\n",
    "numUniqueBalls = 49\n",
    "\n",
    "doHistForWhiteBallAnalysis( df[sel], numUniqueBalls )"
   ]
  },
  {
   "cell_type": "markdown",
   "metadata": {},
   "source": [
    "A-ha! It can be seen that certain values HAD a higher probability of being drawn!\n",
    "Note that ONE CAN to establish a confidence level on the results (i.e. margin). This can be done with the number of samples (514 in this case). "
   ]
  },
  {
   "cell_type": "markdown",
   "metadata": {
    "collapsed": false
   },
   "source": [
    "### Analyze 3rd time segment (years 2002-2005)"
   ]
  },
  {
   "cell_type": "code",
   "execution_count": null,
   "metadata": {
    "collapsed": false
   },
   "outputs": [],
   "source": [
    "sel = (df.date >= '2002/10/9') & (df.date < '2005/08/28')\n",
    "print('Num of points is ' + str(len(df[sel])))\n",
    "\n",
    "numUniqueBalls = 53\n",
    "\n",
    "doHistForWhiteBallAnalysis( df[sel], numUniqueBalls )"
   ]
  },
  {
   "cell_type": "markdown",
   "metadata": {
    "collapsed": false
   },
   "source": [
    "### Let's now do one last time segment: the current one"
   ]
  },
  {
   "cell_type": "code",
   "execution_count": null,
   "metadata": {
    "collapsed": false
   },
   "outputs": [],
   "source": [
    "sel = (df.date >= '2015/10/7') \n",
    "print('Num of points is ' + str(len(df[sel])))\n",
    "\n",
    "numUniqueBalls = 69\n",
    "\n",
    "doHistForWhiteBallAnalysis( df[sel], numUniqueBalls )"
   ]
  },
  {
   "cell_type": "markdown",
   "metadata": {
    "collapsed": false
   },
   "source": [
    "Unfortunately, there are only 95 data points (at the time we got the numbers from the PowerBall website) to have some confidence on the results. We'll come back later to do analyses on both the Power and red balls. "
   ]
  }
 ],
 "metadata": {
  "kernelspec": {
   "display_name": "Python 2",
   "language": "python",
   "name": "python2"
  },
  "language_info": {
   "codemirror_mode": {
    "name": "ipython",
    "version": 2
   },
   "file_extension": ".py",
   "mimetype": "text/x-python",
   "name": "python",
   "nbconvert_exporter": "python",
   "pygments_lexer": "ipython2",
   "version": "2.7.11"
  }
 },
 "nbformat": 4,
 "nbformat_minor": 0
}
