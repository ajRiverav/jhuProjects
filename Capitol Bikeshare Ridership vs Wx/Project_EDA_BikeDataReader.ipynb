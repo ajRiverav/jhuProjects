{
 "cells": [
  {
   "cell_type": "markdown",
   "metadata": {},
   "source": [
    "# This notebook is to be run before EDA_Main\n",
    "This notebook gets data from the Capital Bikeshare system logs, and saves a csv-formatted file in a format suitale for consumptions for our analysis."
   ]
  },
  {
   "cell_type": "code",
   "execution_count": 1,
   "metadata": {
    "collapsed": true
   },
   "outputs": [],
   "source": [
    "import pandas as pd"
   ]
  },
  {
   "cell_type": "code",
   "execution_count": 2,
   "metadata": {
    "collapsed": true
   },
   "outputs": [],
   "source": [
    "filenames=[\"2012-Q1-Trips-History-Data.csv\",\n",
    "          \"2012-Q2-Trips-History-Data.csv\",\n",
    "           \"2012-Q3-Trips-History-Data.csv\",\n",
    "           \"2012-Q4-Trips-History-Data.csv\",\n",
    "           \n",
    "           \"2013-Q1-Trips-History-Data.csv\",\n",
    "           \"2013-Q2-Trips-History-Data.csv\",\n",
    "           \"2013-Q3-Trips-History-Data.csv\",\n",
    "           \"2013-Q4-Trips-History-Data2.csv\"]\n",
    "\n",
    "path=\"./\""
   ]
  },
  {
   "cell_type": "markdown",
   "metadata": {},
   "source": [
    "# File Header exploration:\n",
    "\n",
    "All files have 7 columns. The columns are not stored in the same order across the files. For instance, \"End Station\" can be found as the 2nd or 4th column, depending on the file. \n",
    "\n",
    "In the final table, these are the columns we expect to have:\n",
    "\n",
    "1. Trip Duration \n",
    "\n",
    "Column names in file: \"Duration\", \"Total duration (ms)\", or \"Duration (ms)\".\n",
    "Data Format:\n",
    "\n",
    "2. Start Date\n",
    "\n",
    "Column names in file: always \"Start Date\". \n",
    "Data Format:\n",
    "\n",
    "3. End Date\n",
    "\n",
    "Column names in file: always \"End Date\".\n",
    "Data Format:\n",
    "\n",
    "4. Start Station\n",
    "\n",
    "Column names in file: \"Start station\" or \"Start Station\" (case changes).\n",
    "Data Format:\n",
    "\n",
    "5. End Station\n",
    "\n",
    "Column names in file: \"End station\" or \"End Station\" (case changes).\n",
    "Data Format:\n",
    "\n",
    "6. Bike Number\n",
    "\n",
    "Column names in file: \"Bike Number\" or \"Bike#\". \n",
    "Data Format:\n",
    "\n",
    "7. Member Type\n",
    "\n",
    "Column names in file: \"Type\", \"Bike Key\", \"Subscriber Type\", \"Subscription Type\", and \"Member Type.\n",
    "Data Format:\n",
    "\n",
    "Let's read in the data and join all the files into one single dataframe. \n"
   ]
  },
  {
   "cell_type": "code",
   "execution_count": 3,
   "metadata": {
    "collapsed": true
   },
   "outputs": [],
   "source": [
    "#This is a dictionary to help us figure out which column is which\n",
    "colNames={}\n",
    "colNames[\"duration\"]=[\"duration\",\"total duration (ms)\",\"duration (ms)\"]\n",
    "colNames[\"startDate\"]=[\"start date\",\"start time\"]\n",
    "colNames[\"endDate\"]=[\"end date\",\"end time\"]\n",
    "colNames[\"startStation\"]=[\"start station\"]\n",
    "colNames[\"endStation\"]=[\"end station\"]\n",
    "colNames[\"bikeNum\"]=[\"bike number\",\"bike#\"]\n",
    "colNames[\"memberType\"]=[\"type\", \"bike key\", \"subscriber type\",\n",
    "                        \"subscription type\",\"member type\"]"
   ]
  },
  {
   "cell_type": "code",
   "execution_count": 4,
   "metadata": {
    "collapsed": false
   },
   "outputs": [
    {
     "name": "stdout",
     "output_type": "stream",
     "text": [
      "Reading:2012-Q1-Trips-History-Data.csv\n",
      "Reading:2012-Q2-Trips-History-Data.csv\n",
      "Reading:2012-Q3-Trips-History-Data.csv\n",
      "Reading:2012-Q4-Trips-History-Data.csv\n",
      "Reading:2013-Q1-Trips-History-Data.csv\n",
      "Reading:2013-Q2-Trips-History-Data.csv\n",
      "Reading:2013-Q3-Trips-History-Data.csv\n",
      "Reading:2013-Q4-Trips-History-Data2.csv\n",
      "Creating dataframe\n",
      "Formatting date column startDate\n",
      "Formatting date column endDate\n",
      "0 . 4631685\n",
      "500000 . 4631685\n",
      "1000000 . 4631685\n",
      "1500000 . 4631685\n",
      "2000000 . 4631685\n",
      "2500000 . 4631685\n",
      "3000000 . 4631685\n",
      "3500000 . 4631685\n",
      "4000000 . 4631685\n",
      "4500000 . 4631685\n",
      "Saving to file...\n",
      "Done\n"
     ]
    }
   ],
   "source": [
    "#master is the FINAL table, which will eventually go to the tsv file\n",
    "master = pd.DataFrame()\n",
    "#masterDict has temporary data\n",
    "masterDict=dict()\n",
    "for i,iFile in enumerate(filenames):\n",
    "    \n",
    "    print \"Reading:\"+iFile\n",
    "    \n",
    "    #read the file as a dataframe\n",
    "    curFile=pd.read_csv(path+iFile)\n",
    "    \n",
    "    #get columns in this file\n",
    "    colsInFile=list(curFile)\n",
    "    \n",
    "    #convert all column names to lowercase\n",
    "    colsInFile=[x.lower() for x in colsInFile]\n",
    "    curFile.columns = map(str.lower, curFile.columns)\n",
    "    \n",
    "    #1. for each column in our master table, find the \"equivalent\" column\n",
    "    #in the current file (b/c the column name could be difference but equivalent)\n",
    "    #2. get the values for the equivalent column\n",
    "    #3. and if the column exists in the master table, just append the data. \n",
    "    for key, valuess in colNames.iteritems():\n",
    "        for value in valuess:\n",
    "            for col in colsInFile:\n",
    "                if value==col:\n",
    "                    if key not in list(master.columns) and i==0:\n",
    "                        masterDict[key]=curFile[col].values.tolist()\n",
    "                    else:\n",
    "                        [masterDict[key].append(n) for n in curFile[col].values.tolist()]\n",
    "print \"Creating dataframe\"\n",
    "master=pd.DataFrame(masterDict)\n",
    "print \"Formatting date column startDate\"#format dates to datetime objects\n",
    "master[\"startDate\"]=pd.to_datetime(master[\"startDate\"])\n",
    "print \"Formatting date column endDate\"\n",
    "master[\"endDate\"]=pd.to_datetime(master[\"endDate\"])\n",
    "\n",
    "#Get the time the bike was ridden for...\n",
    "master['tmp']=master['endDate']-master['startDate']\n",
    "\n",
    "#...but we want it in minutes...\n",
    "theListOfMinutes=[]\n",
    "numEntries=len(master)\n",
    "for i in range(0,numEntries):\n",
    "    if not i%500000:\n",
    "        print i,\".\",numEntries\n",
    "    theDuration=master['tmp'][i]\n",
    "    theListOfMinutes.append(theDuration.seconds/60)\n",
    "del master['tmp']\n",
    "master['durationMins']=theListOfMinutes\n",
    "\n",
    "#save to a file...takes a while (over 7M entries using provided files)\n",
    "print \"Saving to file...\"\n",
    "master.to_csv('master.tsv',engine='C',sep='\\t')\n",
    "print 'Done'"
   ]
  }
 ],
 "metadata": {
  "kernelspec": {
   "display_name": "Python [Root]",
   "language": "python",
   "name": "Python [Root]"
  },
  "language_info": {
   "codemirror_mode": {
    "name": "ipython",
    "version": 2
   },
   "file_extension": ".py",
   "mimetype": "text/x-python",
   "name": "python",
   "nbconvert_exporter": "python",
   "pygments_lexer": "ipython2",
   "version": "2.7.12"
  }
 },
 "nbformat": 4,
 "nbformat_minor": 0
}
