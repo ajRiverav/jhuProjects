{
 "cells": [
  {
   "cell_type": "markdown",
   "metadata": {},
   "source": [
    "# This notebook is to be run before EDA_Main\n",
    "This notebook gets hourly data from the weatherundeground.com website, and saves a csv-formatted file for each day in a format suitable for consumption for our analysis. "
   ]
  },
  {
   "cell_type": "code",
   "execution_count": 1,
   "metadata": {
    "collapsed": true
   },
   "outputs": [],
   "source": [
    "import urllib #to access the webpage. \n",
    "\n",
    "years=['2012','2013']\n",
    "months= [str(i) for i in range(1,12+1)]\n",
    "\n",
    "monthsWith31days=['1','3','5','7','8','10','12']\n",
    "monthsWith30days=['4','6','9','11']\n",
    "monthsWith29orlessDays=['2']"
   ]
  },
  {
   "cell_type": "code",
   "execution_count": 2,
   "metadata": {
    "collapsed": false
   },
   "outputs": [
    {
     "name": "stdout",
     "output_type": "stream",
     "text": [
      "Reading Year: 2012  - month: 1\n",
      "Reading Year: 2012  - month: 2\n",
      "Reading Year: 2012  - month: 3\n",
      "Reading Year: 2012  - month: 4\n",
      "Reading Year: 2012  - month: 5\n",
      "Reading Year: 2012  - month: 6\n",
      "Reading Year: 2012  - month: 7\n",
      "Reading Year: 2012  - month: 8\n",
      "Reading Year: 2012  - month: 9\n",
      "Reading Year: 2012  - month: 10\n",
      "Reading Year: 2012  - month: 11\n",
      "Reading Year: 2012  - month: 12\n",
      "Reading Year: 2013  - month: 1\n",
      "Reading Year: 2013  - month: 2\n",
      "Reading Year: 2013  - month: 3\n",
      "Reading Year: 2013  - month: 4\n",
      "Reading Year: 2013  - month: 5\n",
      "Reading Year: 2013  - month: 6\n",
      "Reading Year: 2013  - month: 7\n",
      "Reading Year: 2013  - month: 8\n",
      "Reading Year: 2013  - month: 9\n",
      "Reading Year: 2013  - month: 10\n",
      "Reading Year: 2013  - month: 11\n",
      "Reading Year: 2013  - month: 12\n"
     ]
    }
   ],
   "source": [
    "# a link looks like\n",
    "# http://www.wunderground.com/history/airport/KDCA/2012/1/1/DailyHistory.html?format=1'\n",
    "# This gets you to where the csv file is. \n",
    "\n",
    "#for every day, save a csv file with the data. \n",
    "#Some logic has been added so that days that don't exist\n",
    "# (e.g. Feb 30) are not saved. \n",
    "filenames=[]\n",
    "for year in years:\n",
    "    for month in months:\n",
    "        print \"Reading Year:\",year, \" - month:\",month\n",
    "        if month in monthsWith31days:\n",
    "            numDays=31\n",
    "        elif month in monthsWith30days:\n",
    "            numDays=30\n",
    "        elif month in monthsWith29orlessDays:\n",
    "            if year=='2012':\n",
    "                numDays=29\n",
    "            elif year=='2013' or year=='2014':\n",
    "                numDays=28\n",
    "        for day in range(1,numDays+1):\n",
    "            website='http://www.wunderground.com/history/airport/KDCA/' \\\n",
    "                    +year+'/'+month+'/'+str(day)+'/DailyHistory.html?format=1'\n",
    "            filenames.append('KDCAwxData-'+year+'-'+month+'-'+str(day)+'.html')\n",
    "            #save website\n",
    "            urllib.urlretrieve(website,'./KDCAwxData-'+year+'-'+month+'-'+str(day)+'.csv')"
   ]
  },
  {
   "cell_type": "code",
   "execution_count": 3,
   "metadata": {
    "collapsed": false
   },
   "outputs": [],
   "source": [
    "#Merge all csv files\n",
    "\n",
    "from os import listdir\n",
    "filenames=listdir('./')"
   ]
  },
  {
   "cell_type": "code",
   "execution_count": 4,
   "metadata": {
    "collapsed": false
   },
   "outputs": [],
   "source": [
    "import pandas as pd\n",
    "\n",
    "master=pd.DataFrame()\n",
    "\n",
    "for theFile in filenames:\n",
    "    #read the file as a dataframe\n",
    "    #print \"Reading file \", i, \"of\",len(filenames)\n",
    "    curFile=pd.read_csv('./'+theFile)\n",
    "    #get rid of strange characters\n",
    "    curFile['dateUtc']=curFile['DateUTC<br />']\n",
    "    curFile['dateUtc']=curFile.dateUtc.str.replace(\"<br />\",\"\")\n",
    "    curFile = curFile.drop('DateUTC<br />', 1)\n",
    "    master=master.append(curFile,ignore_index=True)"
   ]
  },
  {
   "cell_type": "code",
   "execution_count": 5,
   "metadata": {
    "collapsed": false
   },
   "outputs": [],
   "source": [
    "#save to tsv file\n",
    "master.to_csv('wxData.tsv',sep='\\t')"
   ]
  }
 ],
 "metadata": {
  "kernelspec": {
   "display_name": "Python [Root]",
   "language": "python",
   "name": "Python [Root]"
  },
  "language_info": {
   "codemirror_mode": {
    "name": "ipython",
    "version": 2
   },
   "file_extension": ".py",
   "mimetype": "text/x-python",
   "name": "python",
   "nbconvert_exporter": "python",
   "pygments_lexer": "ipython2",
   "version": "2.7.12"
  }
 },
 "nbformat": 4,
 "nbformat_minor": 0
}
